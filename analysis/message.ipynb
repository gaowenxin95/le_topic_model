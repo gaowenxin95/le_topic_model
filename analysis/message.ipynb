{
 "cells": [
  {
   "cell_type": "code",
   "execution_count": 1,
   "metadata": {},
   "outputs": [],
   "source": [
    "import gc, functools,time\n",
    "import pickle, re\n",
    "import random, math\n",
    "from typing import List\n",
    "from pprint import pprint"
   ]
  },
  {
   "cell_type": "code",
   "execution_count": 2,
   "metadata": {},
   "outputs": [],
   "source": [
    "from pyecharts.charts import Bar, Tab, Grid, Line\n",
    "from pyecharts import options as opts\n",
    "from pyecharts.globals import ThemeType"
   ]
  },
  {
   "cell_type": "code",
   "execution_count": 18,
   "metadata": {},
   "outputs": [],
   "source": [
    "\n",
    "\n",
    "import  pandas as pd\n",
    "import nltk\n",
    "import jieba\n",
    "from sklearn.feature_extraction.text import CountVectorizer\n",
    "from sklearn.decomposition import LatentDirichletAllocation\n",
    "from pyLDAvis.sklearn import prepare\n",
    "import pyLDAvis\n",
    "import pyLDAvis.gensim"
   ]
  },
  {
   "cell_type": "code",
   "execution_count": 10,
   "metadata": {},
   "outputs": [
    {
     "name": "stdout",
     "output_type": "stream",
     "text": [
      ".x月xx日推出凭证式国债x年期x.xx.xx%，x年期x.xx%到期一次还本付息。真情邮政，为您竭诚服务！  咨询电话xxxx-xxx强度等级水泥的必要性和可行性进行深入研究Don’tSellaProduct以上比赛规则由江苏科技大学教职工摄影协会负责解释坐12个小时飞机身体已经疲惫不堪为什么不能是你③以多数人的努力程度地址位于天津市滨海新区响罗湾旷世国际大厦A座1801室它是由AlexanderStepanov、MengLee和DavidRMusser在惠普实验室工作时所开发出来的前首席执行官迪克·科斯特洛或将离开zuzu气垫BB拍上去过几分钟后就会和皮肤越来越贴年薪20万以上的工作岗位普\n"
     ]
    }
   ],
   "source": [
    "def read_text(road):\n",
    "    filetxtlist = []\n",
    "    with open(road, 'r', encoding='utf-8') as f:\n",
    "        for line in f.readlines():\n",
    "            line = line.strip('\\n').replace(u'\\u3000',u' ')\n",
    "            filetxtlist.append(line)\n",
    "    filetxt = ''.join(filetxtlist)\n",
    "    return filetxt\n",
    "\n",
    "road = '../data/df.txt'\n",
    "t = read_text(road)\n",
    "print(t[0:300])"
   ]
  },
  {
   "cell_type": "code",
   "execution_count": 12,
   "metadata": {},
   "outputs": [],
   "source": [
    "roads = ['../data/message.txt']\n",
    "filetxt = []\n",
    "for f in roads:\n",
    "    filetxt.append(read_text(f))"
   ]
  },
  {
   "cell_type": "code",
   "execution_count": 14,
   "metadata": {},
   "outputs": [],
   "source": [
    "# 文本清理\n",
    "def clearn_text(text):\n",
    "    '''新增功能：删除英文、数字\n",
    "    # 版本一：过滤filter_key：result为[0,0,1,0]\n",
    "    # 版本二：过滤英文、数字：result为[1, 0, 1, 1]\n",
    "    输入数据的质量和结果输出紧密相关\n",
    "    '''\n",
    "    # filter_key = ['0','1','2','3','4','5','6','7','8','9','０','１','２','３','４','５','６','７','８','９']\n",
    "    # for keys in filter_key:\n",
    "    #     text = text.replace(keys,'')\n",
    "    new_text = re.sub('[a-zA-Z0-9]','',text)\n",
    "    return new_text\n",
    "filetxt = [clearn_text(text) for text in filetxt]\n",
    "#filetxt"
   ]
  },
  {
   "cell_type": "markdown",
   "metadata": {},
   "source": [
    "## 加载停用词\n"
   ]
  },
  {
   "cell_type": "code",
   "execution_count": null,
   "metadata": {},
   "outputs": [],
   "source": []
  },
  {
   "cell_type": "code",
   "execution_count": 4,
   "metadata": {},
   "outputs": [
    {
     "name": "stdout",
     "output_type": "stream",
     "text": [
      "746\n"
     ]
    }
   ],
   "source": [
    "\n",
    "print(len(stopwords))"
   ]
  },
  {
   "cell_type": "code",
   "execution_count": 16,
   "metadata": {},
   "outputs": [],
   "source": [
    "# 中文停用词载入\n",
    "# nltk.download('stopwords')\n",
    "# stopwords = nltk.corpus.stopwords.words('chinese')\n",
    "\n",
    "# 停用词过滤\n",
    "def clean_text(text):\n",
    "    '''\n",
    "    完善功能：无关词汇能过滤就过滤掉，否则影响结果\n",
    "    # 版本一：stopwords比较少时：result为[1, 0, 1, 1]\n",
    "    # 版本二：丰富stopwords词汇，过滤无关字符：result为[1, 1, 0, 0]（是理想结果）\n",
    "    输入数据的质量和结果输出紧密相关\n",
    "    '''\n",
    "#     stopwords = ['的','了','但是','况且','不仅','还','为了','主要','正文','作者','关键词','称之为',\n",
    "#     '认为','因此','人们','一个','需要','我们','你们','他们','这种','标题','进一步','如图所示',\n",
    "#     '一种','一定','由于','条件','进行','作为','一个','可以','mm','原文','更进一步','文献号',\n",
    "#     'xi','结果','版号','标题','日期','合作','去年','今年','目前','期号','作者简介','哲社版',\n",
    "#     '昨天','一直','作者','存在','正文','形成','要求','产生','因为','因此','期号']\n",
    "    stopwords = open('../data/cn_stopwords.txt',encoding='utf-8').read().split()\n",
    "    stopwords = frozenset(stopwords)\n",
    "    wordlist = jieba.lcut(text) \n",
    "    # 去除停用词和长度小于2的词语\n",
    "    wordlist = [w for w in wordlist if w not in stopwords and len(w)>2]\n",
    "    # 词语之间以空格间隔\n",
    "    document = ' '.join(wordlist)\n",
    "    return document\n",
    "corpus = [clean_text(text) for text in filetxt]\n",
    "#corpus"
   ]
  },
  {
   "cell_type": "code",
   "execution_count": 19,
   "metadata": {},
   "outputs": [
    {
     "name": "stdout",
     "output_type": "stream",
     "text": [
      "给每个词一个编号：[('一个半', 0), ('一个多', 1), ('一个打', 2), ('一个月', 3), ('一会儿',...\n",
      "涉及的特征：一个半，一个多，一个打，一个月，...\n",
      "涉及特征数：942\n"
     ]
    }
   ],
   "source": [
    "\n",
    "vectorizer = CountVectorizer()\n",
    "doc_term_matrix = vectorizer.fit_transform(corpus)  # 输入：list格式\n",
    "matrix_features = vectorizer.get_feature_names()\n",
    "matrix_dict = sorted(vectorizer.vocabulary_.items(), key=lambda item: item[1], reverse=False)\n",
    "print('给每个词一个编号：{}...'.format(str(matrix_dict)[0:56]))\n",
    "print('涉及的特征：{}，...'.format('，'.join(matrix_features[0:4])))\n",
    "print('涉及特征数：{}'.format(len(matrix_features)))"
   ]
  },
  {
   "cell_type": "code",
   "execution_count": 28,
   "metadata": {},
   "outputs": [
    {
     "name": "stderr",
     "output_type": "stream",
     "text": [
      "[Parallel(n_jobs=8)]: Using backend LokyBackend with 8 concurrent workers.\n",
      "[Parallel(n_jobs=8)]: Done   1 out of   1 | elapsed:    0.0s finished\n",
      "[Parallel(n_jobs=8)]: Using backend LokyBackend with 8 concurrent workers.\n",
      "[Parallel(n_jobs=8)]: Done   1 out of   1 | elapsed:    0.0s finished\n",
      "[Parallel(n_jobs=8)]: Using backend LokyBackend with 8 concurrent workers.\n",
      "[Parallel(n_jobs=8)]: Done   1 out of   1 | elapsed:    0.0s finished\n",
      "[Parallel(n_jobs=8)]: Using backend LokyBackend with 8 concurrent workers.\n",
      "[Parallel(n_jobs=8)]: Done   1 out of   1 | elapsed:    0.0s finished\n",
      "[Parallel(n_jobs=8)]: Using backend LokyBackend with 8 concurrent workers.\n",
      "[Parallel(n_jobs=8)]: Done   1 out of   1 | elapsed:    0.0s finished\n",
      "[Parallel(n_jobs=8)]: Using backend LokyBackend with 8 concurrent workers.\n",
      "[Parallel(n_jobs=8)]: Done   1 out of   1 | elapsed:    0.0s finished\n",
      "[Parallel(n_jobs=8)]: Using backend LokyBackend with 8 concurrent workers.\n",
      "[Parallel(n_jobs=8)]: Done   1 out of   1 | elapsed:    0.0s finished\n",
      "[Parallel(n_jobs=8)]: Using backend LokyBackend with 8 concurrent workers.\n",
      "[Parallel(n_jobs=8)]: Done   1 out of   1 | elapsed:    0.0s finished\n",
      "[Parallel(n_jobs=8)]: Using backend LokyBackend with 8 concurrent workers.\n",
      "[Parallel(n_jobs=8)]: Done   1 out of   1 | elapsed:    0.0s finished\n",
      "[Parallel(n_jobs=8)]: Using backend LokyBackend with 8 concurrent workers.\n",
      "[Parallel(n_jobs=8)]: Done   1 out of   1 | elapsed:    0.0s finished\n",
      "[Parallel(n_jobs=8)]: Using backend LokyBackend with 8 concurrent workers.\n",
      "[Parallel(n_jobs=8)]: Done   1 out of   1 | elapsed:    0.0s finished\n",
      "[Parallel(n_jobs=8)]: Using backend LokyBackend with 8 concurrent workers.\n",
      "[Parallel(n_jobs=8)]: Done   1 out of   1 | elapsed:    0.0s finished\n",
      "[Parallel(n_jobs=8)]: Using backend LokyBackend with 8 concurrent workers.\n",
      "[Parallel(n_jobs=8)]: Done   1 out of   1 | elapsed:    0.0s finished\n",
      "[Parallel(n_jobs=8)]: Using backend LokyBackend with 8 concurrent workers.\n",
      "[Parallel(n_jobs=8)]: Done   1 out of   1 | elapsed:    0.0s finished\n",
      "[Parallel(n_jobs=8)]: Using backend LokyBackend with 8 concurrent workers.\n",
      "[Parallel(n_jobs=8)]: Done   1 out of   1 | elapsed:    0.0s finished\n",
      "[Parallel(n_jobs=8)]: Using backend LokyBackend with 8 concurrent workers.\n",
      "[Parallel(n_jobs=8)]: Done   1 out of   1 | elapsed:    0.0s finished\n",
      "[Parallel(n_jobs=8)]: Using backend LokyBackend with 8 concurrent workers.\n",
      "[Parallel(n_jobs=8)]: Done   1 out of   1 | elapsed:    0.0s finished\n"
     ]
    },
    {
     "name": "stdout",
     "output_type": "stream",
     "text": [
      "iteration: 1 of max_iter: 50\n",
      "iteration: 2 of max_iter: 50\n",
      "iteration: 3 of max_iter: 50\n",
      "iteration: 4 of max_iter: 50\n",
      "iteration: 5 of max_iter: 50\n",
      "iteration: 6 of max_iter: 50\n",
      "iteration: 7 of max_iter: 50\n",
      "iteration: 8 of max_iter: 50\n",
      "iteration: 9 of max_iter: 50\n",
      "iteration: 10 of max_iter: 50\n",
      "iteration: 11 of max_iter: 50\n",
      "iteration: 12 of max_iter: 50\n",
      "iteration: 13 of max_iter: 50\n",
      "iteration: 14 of max_iter: 50\n",
      "iteration: 15 of max_iter: 50\n",
      "iteration: 16 of max_iter: 50\n",
      "iteration: 17 of max_iter: 50\n",
      "iteration: 18 of max_iter: 50\n"
     ]
    },
    {
     "name": "stderr",
     "output_type": "stream",
     "text": [
      "[Parallel(n_jobs=8)]: Using backend LokyBackend with 8 concurrent workers.\n",
      "[Parallel(n_jobs=8)]: Done   1 out of   1 | elapsed:    0.0s finished\n",
      "[Parallel(n_jobs=8)]: Using backend LokyBackend with 8 concurrent workers.\n",
      "[Parallel(n_jobs=8)]: Done   1 out of   1 | elapsed:    0.0s finished\n",
      "[Parallel(n_jobs=8)]: Using backend LokyBackend with 8 concurrent workers.\n",
      "[Parallel(n_jobs=8)]: Done   1 out of   1 | elapsed:    0.0s finished\n",
      "[Parallel(n_jobs=8)]: Using backend LokyBackend with 8 concurrent workers.\n",
      "[Parallel(n_jobs=8)]: Done   1 out of   1 | elapsed:    0.0s finished\n",
      "[Parallel(n_jobs=8)]: Using backend LokyBackend with 8 concurrent workers.\n",
      "[Parallel(n_jobs=8)]: Done   1 out of   1 | elapsed:    0.0s finished\n",
      "[Parallel(n_jobs=8)]: Using backend LokyBackend with 8 concurrent workers.\n",
      "[Parallel(n_jobs=8)]: Done   1 out of   1 | elapsed:    0.0s finished\n",
      "[Parallel(n_jobs=8)]: Using backend LokyBackend with 8 concurrent workers.\n",
      "[Parallel(n_jobs=8)]: Done   1 out of   1 | elapsed:    0.0s finished\n",
      "[Parallel(n_jobs=8)]: Using backend LokyBackend with 8 concurrent workers.\n",
      "[Parallel(n_jobs=8)]: Done   1 out of   1 | elapsed:    0.0s finished\n",
      "[Parallel(n_jobs=8)]: Using backend LokyBackend with 8 concurrent workers.\n",
      "[Parallel(n_jobs=8)]: Done   1 out of   1 | elapsed:    0.0s finished\n",
      "[Parallel(n_jobs=8)]: Using backend LokyBackend with 8 concurrent workers.\n",
      "[Parallel(n_jobs=8)]: Done   1 out of   1 | elapsed:    0.0s finished\n",
      "[Parallel(n_jobs=8)]: Using backend LokyBackend with 8 concurrent workers.\n",
      "[Parallel(n_jobs=8)]: Done   1 out of   1 | elapsed:    0.0s finished\n",
      "[Parallel(n_jobs=8)]: Using backend LokyBackend with 8 concurrent workers.\n",
      "[Parallel(n_jobs=8)]: Done   1 out of   1 | elapsed:    0.0s finished\n",
      "[Parallel(n_jobs=8)]: Using backend LokyBackend with 8 concurrent workers.\n",
      "[Parallel(n_jobs=8)]: Done   1 out of   1 | elapsed:    0.0s finished\n",
      "[Parallel(n_jobs=8)]: Using backend LokyBackend with 8 concurrent workers.\n",
      "[Parallel(n_jobs=8)]: Done   1 out of   1 | elapsed:    0.0s finished\n",
      "[Parallel(n_jobs=8)]: Using backend LokyBackend with 8 concurrent workers.\n",
      "[Parallel(n_jobs=8)]: Done   1 out of   1 | elapsed:    0.0s finished\n",
      "[Parallel(n_jobs=8)]: Using backend LokyBackend with 8 concurrent workers.\n",
      "[Parallel(n_jobs=8)]: Done   1 out of   1 | elapsed:    0.0s finished\n",
      "[Parallel(n_jobs=8)]: Using backend LokyBackend with 8 concurrent workers.\n",
      "[Parallel(n_jobs=8)]: Done   1 out of   1 | elapsed:    0.0s finished\n",
      "[Parallel(n_jobs=8)]: Using backend LokyBackend with 8 concurrent workers.\n",
      "[Parallel(n_jobs=8)]: Done   1 out of   1 | elapsed:    0.0s finished\n",
      "[Parallel(n_jobs=8)]: Using backend LokyBackend with 8 concurrent workers.\n"
     ]
    },
    {
     "name": "stdout",
     "output_type": "stream",
     "text": [
      "iteration: 19 of max_iter: 50\n",
      "iteration: 20 of max_iter: 50\n",
      "iteration: 21 of max_iter: 50\n",
      "iteration: 22 of max_iter: 50\n",
      "iteration: 23 of max_iter: 50\n",
      "iteration: 24 of max_iter: 50\n",
      "iteration: 25 of max_iter: 50\n",
      "iteration: 26 of max_iter: 50\n",
      "iteration: 27 of max_iter: 50\n",
      "iteration: 28 of max_iter: 50\n",
      "iteration: 29 of max_iter: 50\n",
      "iteration: 30 of max_iter: 50\n",
      "iteration: 31 of max_iter: 50\n",
      "iteration: 32 of max_iter: 50\n",
      "iteration: 33 of max_iter: 50\n",
      "iteration: 34 of max_iter: 50\n",
      "iteration: 35 of max_iter: 50\n",
      "iteration: 36 of max_iter: 50\n",
      "iteration: 37 of max_iter: 50\n",
      "iteration: 38 of max_iter: 50\n",
      "iteration: 39 of max_iter: 50\n",
      "iteration: 40 of max_iter: 50\n",
      "iteration: 41 of max_iter: 50\n",
      "iteration: 42 of max_iter: 50\n",
      "iteration: 43 of max_iter: 50\n",
      "iteration: 44 of max_iter: 50\n",
      "iteration: 45 of max_iter: 50\n",
      "iteration: 46 of max_iter: 50\n",
      "iteration: 47 of max_iter: 50\n",
      "iteration: 48 of max_iter: 50\n",
      "iteration: 49 of max_iter: 50\n",
      "iteration: 50 of max_iter: 50\n"
     ]
    },
    {
     "name": "stderr",
     "output_type": "stream",
     "text": [
      "[Parallel(n_jobs=8)]: Done   1 out of   1 | elapsed:    0.0s finished\n",
      "[Parallel(n_jobs=8)]: Using backend LokyBackend with 8 concurrent workers.\n",
      "[Parallel(n_jobs=8)]: Done   1 out of   1 | elapsed:    0.0s finished\n",
      "[Parallel(n_jobs=8)]: Using backend LokyBackend with 8 concurrent workers.\n",
      "[Parallel(n_jobs=8)]: Done   1 out of   1 | elapsed:    0.0s finished\n",
      "[Parallel(n_jobs=8)]: Using backend LokyBackend with 8 concurrent workers.\n",
      "[Parallel(n_jobs=8)]: Done   1 out of   1 | elapsed:    0.0s finished\n",
      "[Parallel(n_jobs=8)]: Using backend LokyBackend with 8 concurrent workers.\n",
      "[Parallel(n_jobs=8)]: Done   1 out of   1 | elapsed:    0.0s finished\n",
      "[Parallel(n_jobs=8)]: Using backend LokyBackend with 8 concurrent workers.\n",
      "[Parallel(n_jobs=8)]: Done   1 out of   1 | elapsed:    0.0s finished\n",
      "[Parallel(n_jobs=8)]: Using backend LokyBackend with 8 concurrent workers.\n",
      "[Parallel(n_jobs=8)]: Done   1 out of   1 | elapsed:    0.0s finished\n",
      "[Parallel(n_jobs=8)]: Using backend LokyBackend with 8 concurrent workers.\n",
      "[Parallel(n_jobs=8)]: Done   1 out of   1 | elapsed:    0.0s finished\n",
      "[Parallel(n_jobs=8)]: Using backend LokyBackend with 8 concurrent workers.\n",
      "[Parallel(n_jobs=8)]: Done   1 out of   1 | elapsed:    0.0s finished\n",
      "[Parallel(n_jobs=8)]: Using backend LokyBackend with 8 concurrent workers.\n",
      "[Parallel(n_jobs=8)]: Done   1 out of   1 | elapsed:    0.0s finished\n",
      "[Parallel(n_jobs=8)]: Using backend LokyBackend with 8 concurrent workers.\n",
      "[Parallel(n_jobs=8)]: Done   1 out of   1 | elapsed:    0.0s finished\n",
      "[Parallel(n_jobs=8)]: Using backend LokyBackend with 8 concurrent workers.\n",
      "[Parallel(n_jobs=8)]: Done   1 out of   1 | elapsed:    0.0s finished\n",
      "[Parallel(n_jobs=8)]: Using backend LokyBackend with 8 concurrent workers.\n",
      "[Parallel(n_jobs=8)]: Done   1 out of   1 | elapsed:    0.0s finished\n",
      "[Parallel(n_jobs=8)]: Using backend LokyBackend with 8 concurrent workers.\n",
      "[Parallel(n_jobs=8)]: Done   1 out of   1 | elapsed:    0.0s finished\n",
      "[Parallel(n_jobs=8)]: Using backend LokyBackend with 8 concurrent workers.\n",
      "[Parallel(n_jobs=8)]: Done   1 out of   1 | elapsed:    0.0s finished\n",
      "[Parallel(n_jobs=8)]: Using backend LokyBackend with 8 concurrent workers.\n",
      "[Parallel(n_jobs=8)]: Done   1 out of   1 | elapsed:    0.0s finished\n"
     ]
    }
   ],
   "source": [
    "from sklearn.decomposition import LatentDirichletAllocation\n",
    "sklearn_lda = LatentDirichletAllocation(n_components=100, \n",
    "                                        doc_topic_prior=None,\n",
    "                                        topic_word_prior=None, \n",
    "                                        learning_method='batch', \n",
    "                                        learning_decay=0.7, \n",
    "                                        learning_offset=10.0, \n",
    "                                        max_iter=50,\n",
    "                                        batch_size=256,\n",
    "                                        evaluate_every=-1, \n",
    "                                        total_samples=1000000.0, \n",
    "                                        perp_tol=0.1, \n",
    "                                        mean_change_tol=0.001, \n",
    "                                        max_doc_update_iter=100, \n",
    "                                        n_jobs=-1, \n",
    "                                        verbose=2, \n",
    "                                        random_state=None)\n",
    "\n",
    "sklearn_lda.fit(doc_term_matrix)\n",
    "tf_feature_names = vectorizer.get_feature_names()\n",
    "#print_top_words(lda_model , tf_feature_names, n_top_words=20)\n",
    "\n",
    "# 最小困惑度所对应的Topic就是最优的主题数 \n",
    "#print(u'\\n困惑度：',lda_model.perplexity(doc_term_matrix,sub_sampling = False))  # doc_term_matrix 特征矩阵"
   ]
  },
  {
   "cell_type": "code",
   "execution_count": 29,
   "metadata": {},
   "outputs": [
    {
     "data": {
      "text/plain": [
       "array([[0.01, 0.01, 0.01, ..., 0.01, 0.01, 0.01],\n",
       "       [0.01, 0.01, 0.01, ..., 0.01, 0.01, 0.01],\n",
       "       [0.01, 0.01, 0.01, ..., 0.01, 0.01, 0.01],\n",
       "       ...,\n",
       "       [0.01, 0.01, 0.01, ..., 0.01, 0.01, 0.01],\n",
       "       [0.01, 0.01, 0.01, ..., 0.01, 0.01, 0.01],\n",
       "       [0.01, 0.01, 0.01, ..., 0.01, 0.01, 0.01]])"
      ]
     },
     "execution_count": 29,
     "metadata": {},
     "output_type": "execute_result"
    }
   ],
   "source": [
    "sklearn_lda.components_"
   ]
  },
  {
   "cell_type": "code",
   "execution_count": 30,
   "metadata": {},
   "outputs": [
    {
     "name": "stderr",
     "output_type": "stream",
     "text": [
      "[Parallel(n_jobs=8)]: Using backend LokyBackend with 8 concurrent workers.\n",
      "[Parallel(n_jobs=8)]: Done   1 out of   1 | elapsed:    0.0s finished\n"
     ]
    }
   ],
   "source": [
    "lda_representation  = sklearn_lda.transform(doc_term_matrix)  # get topics for some given samples:"
   ]
  },
  {
   "cell_type": "code",
   "execution_count": 31,
   "metadata": {},
   "outputs": [],
   "source": [
    "def print_top_words(model, feature_names, n_top_words=10):\n",
    "    for topic_idx, topic in enumerate(model.components_):\n",
    "        message = \"Topic #%d: \" % topic_idx\n",
    "        message += \",\".join([feature_names[i]\n",
    "                             for i in topic.argsort()[:-n_top_words - 1:-1]])\n",
    "        print(message)\n",
    "    print()"
   ]
  },
  {
   "cell_type": "code",
   "execution_count": 32,
   "metadata": {},
   "outputs": [
    {
     "name": "stdout",
     "output_type": "stream",
     "text": [
      "\n",
      "Topics in LDA model:\n",
      "Topic #0: 鼓楼区,声嘶力竭,大方向,大放送,大干一场,大崗山,大峡谷,大学生,大姑娘,大吐苦水,多美元,多渠道,夏迪特,处方药,墨尔本,地理位置,基础设施,基督教,培训基地,城管局\n",
      "Topic #1: 鼓楼区,声嘶力竭,大方向,大放送,大干一场,大崗山,大峡谷,大学生,大姑娘,大吐苦水,多美元,多渠道,夏迪特,处方药,墨尔本,地理位置,基础设施,基督教,培训基地,城管局\n",
      "Topic #2: 鼓楼区,声嘶力竭,大方向,大放送,大干一场,大崗山,大峡谷,大学生,大姑娘,大吐苦水,多美元,多渠道,夏迪特,处方药,墨尔本,地理位置,基础设施,基督教,培训基地,城管局\n",
      "Topic #3: 鼓楼区,声嘶力竭,大方向,大放送,大干一场,大崗山,大峡谷,大学生,大姑娘,大吐苦水,多美元,多渠道,夏迪特,处方药,墨尔本,地理位置,基础设施,基督教,培训基地,城管局\n",
      "Topic #4: 鼓楼区,声嘶力竭,大方向,大放送,大干一场,大崗山,大峡谷,大学生,大姑娘,大吐苦水,多美元,多渠道,夏迪特,处方药,墨尔本,地理位置,基础设施,基督教,培训基地,城管局\n",
      "Topic #5: 鼓楼区,声嘶力竭,大方向,大放送,大干一场,大崗山,大峡谷,大学生,大姑娘,大吐苦水,多美元,多渠道,夏迪特,处方药,墨尔本,地理位置,基础设施,基督教,培训基地,城管局\n",
      "Topic #6: 鼓楼区,声嘶力竭,大方向,大放送,大干一场,大崗山,大峡谷,大学生,大姑娘,大吐苦水,多美元,多渠道,夏迪特,处方药,墨尔本,地理位置,基础设施,基督教,培训基地,城管局\n",
      "Topic #7: 鼓楼区,声嘶力竭,大方向,大放送,大干一场,大崗山,大峡谷,大学生,大姑娘,大吐苦水,多美元,多渠道,夏迪特,处方药,墨尔本,地理位置,基础设施,基督教,培训基地,城管局\n",
      "Topic #8: 鼓楼区,声嘶力竭,大方向,大放送,大干一场,大崗山,大峡谷,大学生,大姑娘,大吐苦水,多美元,多渠道,夏迪特,处方药,墨尔本,地理位置,基础设施,基督教,培训基地,城管局\n",
      "Topic #9: 鼓楼区,声嘶力竭,大方向,大放送,大干一场,大崗山,大峡谷,大学生,大姑娘,大吐苦水,多美元,多渠道,夏迪特,处方药,墨尔本,地理位置,基础设施,基督教,培训基地,城管局\n",
      "Topic #10: 鼓楼区,声嘶力竭,大方向,大放送,大干一场,大崗山,大峡谷,大学生,大姑娘,大吐苦水,多美元,多渠道,夏迪特,处方药,墨尔本,地理位置,基础设施,基督教,培训基地,城管局\n",
      "Topic #11: 鼓楼区,声嘶力竭,大方向,大放送,大干一场,大崗山,大峡谷,大学生,大姑娘,大吐苦水,多美元,多渠道,夏迪特,处方药,墨尔本,地理位置,基础设施,基督教,培训基地,城管局\n",
      "Topic #12: 鼓楼区,声嘶力竭,大方向,大放送,大干一场,大崗山,大峡谷,大学生,大姑娘,大吐苦水,多美元,多渠道,夏迪特,处方药,墨尔本,地理位置,基础设施,基督教,培训基地,城管局\n",
      "Topic #13: 鼓楼区,声嘶力竭,大方向,大放送,大干一场,大崗山,大峡谷,大学生,大姑娘,大吐苦水,多美元,多渠道,夏迪特,处方药,墨尔本,地理位置,基础设施,基督教,培训基地,城管局\n",
      "Topic #14: 鼓楼区,声嘶力竭,大方向,大放送,大干一场,大崗山,大峡谷,大学生,大姑娘,大吐苦水,多美元,多渠道,夏迪特,处方药,墨尔本,地理位置,基础设施,基督教,培训基地,城管局\n",
      "Topic #15: 鼓楼区,声嘶力竭,大方向,大放送,大干一场,大崗山,大峡谷,大学生,大姑娘,大吐苦水,多美元,多渠道,夏迪特,处方药,墨尔本,地理位置,基础设施,基督教,培训基地,城管局\n",
      "Topic #16: 鼓楼区,声嘶力竭,大方向,大放送,大干一场,大崗山,大峡谷,大学生,大姑娘,大吐苦水,多美元,多渠道,夏迪特,处方药,墨尔本,地理位置,基础设施,基督教,培训基地,城管局\n",
      "Topic #17: 鼓楼区,声嘶力竭,大方向,大放送,大干一场,大崗山,大峡谷,大学生,大姑娘,大吐苦水,多美元,多渠道,夏迪特,处方药,墨尔本,地理位置,基础设施,基督教,培训基地,城管局\n",
      "Topic #18: 鼓楼区,声嘶力竭,大方向,大放送,大干一场,大崗山,大峡谷,大学生,大姑娘,大吐苦水,多美元,多渠道,夏迪特,处方药,墨尔本,地理位置,基础设施,基督教,培训基地,城管局\n",
      "Topic #19: 鼓楼区,声嘶力竭,大方向,大放送,大干一场,大崗山,大峡谷,大学生,大姑娘,大吐苦水,多美元,多渠道,夏迪特,处方药,墨尔本,地理位置,基础设施,基督教,培训基地,城管局\n",
      "Topic #20: 鼓楼区,声嘶力竭,大方向,大放送,大干一场,大崗山,大峡谷,大学生,大姑娘,大吐苦水,多美元,多渠道,夏迪特,处方药,墨尔本,地理位置,基础设施,基督教,培训基地,城管局\n",
      "Topic #21: 鼓楼区,声嘶力竭,大方向,大放送,大干一场,大崗山,大峡谷,大学生,大姑娘,大吐苦水,多美元,多渠道,夏迪特,处方药,墨尔本,地理位置,基础设施,基督教,培训基地,城管局\n",
      "Topic #22: 鼓楼区,声嘶力竭,大方向,大放送,大干一场,大崗山,大峡谷,大学生,大姑娘,大吐苦水,多美元,多渠道,夏迪特,处方药,墨尔本,地理位置,基础设施,基督教,培训基地,城管局\n",
      "Topic #23: 鼓楼区,声嘶力竭,大方向,大放送,大干一场,大崗山,大峡谷,大学生,大姑娘,大吐苦水,多美元,多渠道,夏迪特,处方药,墨尔本,地理位置,基础设施,基督教,培训基地,城管局\n",
      "Topic #24: 鼓楼区,声嘶力竭,大方向,大放送,大干一场,大崗山,大峡谷,大学生,大姑娘,大吐苦水,多美元,多渠道,夏迪特,处方药,墨尔本,地理位置,基础设施,基督教,培训基地,城管局\n",
      "Topic #25: 鼓楼区,声嘶力竭,大方向,大放送,大干一场,大崗山,大峡谷,大学生,大姑娘,大吐苦水,多美元,多渠道,夏迪特,处方药,墨尔本,地理位置,基础设施,基督教,培训基地,城管局\n",
      "Topic #26: 鼓楼区,声嘶力竭,大方向,大放送,大干一场,大崗山,大峡谷,大学生,大姑娘,大吐苦水,多美元,多渠道,夏迪特,处方药,墨尔本,地理位置,基础设施,基督教,培训基地,城管局\n",
      "Topic #27: 鼓楼区,声嘶力竭,大方向,大放送,大干一场,大崗山,大峡谷,大学生,大姑娘,大吐苦水,多美元,多渠道,夏迪特,处方药,墨尔本,地理位置,基础设施,基督教,培训基地,城管局\n",
      "Topic #28: 鼓楼区,声嘶力竭,大方向,大放送,大干一场,大崗山,大峡谷,大学生,大姑娘,大吐苦水,多美元,多渠道,夏迪特,处方药,墨尔本,地理位置,基础设施,基督教,培训基地,城管局\n",
      "Topic #29: 鼓楼区,声嘶力竭,大方向,大放送,大干一场,大崗山,大峡谷,大学生,大姑娘,大吐苦水,多美元,多渠道,夏迪特,处方药,墨尔本,地理位置,基础设施,基督教,培训基地,城管局\n",
      "Topic #30: 机器人,年月日,有限公司,花千骨,互联网,江苏省,设计师,浙江省,三八妇女节,亚马逊,浏览器,演唱会,防晒霜,工作人员,优惠活动,营业厅,一口价,维生素,老客户,次新股\n",
      "Topic #31: 鼓楼区,声嘶力竭,大方向,大放送,大干一场,大崗山,大峡谷,大学生,大姑娘,大吐苦水,多美元,多渠道,夏迪特,处方药,墨尔本,地理位置,基础设施,基督教,培训基地,城管局\n",
      "Topic #32: 鼓楼区,声嘶力竭,大方向,大放送,大干一场,大崗山,大峡谷,大学生,大姑娘,大吐苦水,多美元,多渠道,夏迪特,处方药,墨尔本,地理位置,基础设施,基督教,培训基地,城管局\n",
      "Topic #33: 鼓楼区,声嘶力竭,大方向,大放送,大干一场,大崗山,大峡谷,大学生,大姑娘,大吐苦水,多美元,多渠道,夏迪特,处方药,墨尔本,地理位置,基础设施,基督教,培训基地,城管局\n",
      "Topic #34: 鼓楼区,声嘶力竭,大方向,大放送,大干一场,大崗山,大峡谷,大学生,大姑娘,大吐苦水,多美元,多渠道,夏迪特,处方药,墨尔本,地理位置,基础设施,基督教,培训基地,城管局\n",
      "Topic #35: 鼓楼区,声嘶力竭,大方向,大放送,大干一场,大崗山,大峡谷,大学生,大姑娘,大吐苦水,多美元,多渠道,夏迪特,处方药,墨尔本,地理位置,基础设施,基督教,培训基地,城管局\n",
      "Topic #36: 鼓楼区,声嘶力竭,大方向,大放送,大干一场,大崗山,大峡谷,大学生,大姑娘,大吐苦水,多美元,多渠道,夏迪特,处方药,墨尔本,地理位置,基础设施,基督教,培训基地,城管局\n",
      "Topic #37: 鼓楼区,声嘶力竭,大方向,大放送,大干一场,大崗山,大峡谷,大学生,大姑娘,大吐苦水,多美元,多渠道,夏迪特,处方药,墨尔本,地理位置,基础设施,基督教,培训基地,城管局\n",
      "Topic #38: 鼓楼区,声嘶力竭,大方向,大放送,大干一场,大崗山,大峡谷,大学生,大姑娘,大吐苦水,多美元,多渠道,夏迪特,处方药,墨尔本,地理位置,基础设施,基督教,培训基地,城管局\n",
      "Topic #39: 鼓楼区,声嘶力竭,大方向,大放送,大干一场,大崗山,大峡谷,大学生,大姑娘,大吐苦水,多美元,多渠道,夏迪特,处方药,墨尔本,地理位置,基础设施,基督教,培训基地,城管局\n",
      "Topic #40: 鼓楼区,声嘶力竭,大方向,大放送,大干一场,大崗山,大峡谷,大学生,大姑娘,大吐苦水,多美元,多渠道,夏迪特,处方药,墨尔本,地理位置,基础设施,基督教,培训基地,城管局\n",
      "Topic #41: 鼓楼区,声嘶力竭,大方向,大放送,大干一场,大崗山,大峡谷,大学生,大姑娘,大吐苦水,多美元,多渠道,夏迪特,处方药,墨尔本,地理位置,基础设施,基督教,培训基地,城管局\n",
      "Topic #42: 鼓楼区,声嘶力竭,大方向,大放送,大干一场,大崗山,大峡谷,大学生,大姑娘,大吐苦水,多美元,多渠道,夏迪特,处方药,墨尔本,地理位置,基础设施,基督教,培训基地,城管局\n",
      "Topic #43: 鼓楼区,声嘶力竭,大方向,大放送,大干一场,大崗山,大峡谷,大学生,大姑娘,大吐苦水,多美元,多渠道,夏迪特,处方药,墨尔本,地理位置,基础设施,基督教,培训基地,城管局\n",
      "Topic #44: 鼓楼区,声嘶力竭,大方向,大放送,大干一场,大崗山,大峡谷,大学生,大姑娘,大吐苦水,多美元,多渠道,夏迪特,处方药,墨尔本,地理位置,基础设施,基督教,培训基地,城管局\n",
      "Topic #45: 鼓楼区,声嘶力竭,大方向,大放送,大干一场,大崗山,大峡谷,大学生,大姑娘,大吐苦水,多美元,多渠道,夏迪特,处方药,墨尔本,地理位置,基础设施,基督教,培训基地,城管局\n",
      "Topic #46: 鼓楼区,声嘶力竭,大方向,大放送,大干一场,大崗山,大峡谷,大学生,大姑娘,大吐苦水,多美元,多渠道,夏迪特,处方药,墨尔本,地理位置,基础设施,基督教,培训基地,城管局\n",
      "Topic #47: 鼓楼区,声嘶力竭,大方向,大放送,大干一场,大崗山,大峡谷,大学生,大姑娘,大吐苦水,多美元,多渠道,夏迪特,处方药,墨尔本,地理位置,基础设施,基督教,培训基地,城管局\n",
      "Topic #48: 鼓楼区,声嘶力竭,大方向,大放送,大干一场,大崗山,大峡谷,大学生,大姑娘,大吐苦水,多美元,多渠道,夏迪特,处方药,墨尔本,地理位置,基础设施,基督教,培训基地,城管局\n",
      "Topic #49: 鼓楼区,声嘶力竭,大方向,大放送,大干一场,大崗山,大峡谷,大学生,大姑娘,大吐苦水,多美元,多渠道,夏迪特,处方药,墨尔本,地理位置,基础设施,基督教,培训基地,城管局\n",
      "Topic #50: 鼓楼区,声嘶力竭,大方向,大放送,大干一场,大崗山,大峡谷,大学生,大姑娘,大吐苦水,多美元,多渠道,夏迪特,处方药,墨尔本,地理位置,基础设施,基督教,培训基地,城管局\n",
      "Topic #51: 鼓楼区,声嘶力竭,大方向,大放送,大干一场,大崗山,大峡谷,大学生,大姑娘,大吐苦水,多美元,多渠道,夏迪特,处方药,墨尔本,地理位置,基础设施,基督教,培训基地,城管局\n",
      "Topic #52: 鼓楼区,声嘶力竭,大方向,大放送,大干一场,大崗山,大峡谷,大学生,大姑娘,大吐苦水,多美元,多渠道,夏迪特,处方药,墨尔本,地理位置,基础设施,基督教,培训基地,城管局\n",
      "Topic #53: 鼓楼区,声嘶力竭,大方向,大放送,大干一场,大崗山,大峡谷,大学生,大姑娘,大吐苦水,多美元,多渠道,夏迪特,处方药,墨尔本,地理位置,基础设施,基督教,培训基地,城管局\n",
      "Topic #54: 鼓楼区,声嘶力竭,大方向,大放送,大干一场,大崗山,大峡谷,大学生,大姑娘,大吐苦水,多美元,多渠道,夏迪特,处方药,墨尔本,地理位置,基础设施,基督教,培训基地,城管局\n",
      "Topic #55: 鼓楼区,声嘶力竭,大方向,大放送,大干一场,大崗山,大峡谷,大学生,大姑娘,大吐苦水,多美元,多渠道,夏迪特,处方药,墨尔本,地理位置,基础设施,基督教,培训基地,城管局\n",
      "Topic #56: 鼓楼区,声嘶力竭,大方向,大放送,大干一场,大崗山,大峡谷,大学生,大姑娘,大吐苦水,多美元,多渠道,夏迪特,处方药,墨尔本,地理位置,基础设施,基督教,培训基地,城管局\n",
      "Topic #57: 鼓楼区,声嘶力竭,大方向,大放送,大干一场,大崗山,大峡谷,大学生,大姑娘,大吐苦水,多美元,多渠道,夏迪特,处方药,墨尔本,地理位置,基础设施,基督教,培训基地,城管局\n",
      "Topic #58: 鼓楼区,声嘶力竭,大方向,大放送,大干一场,大崗山,大峡谷,大学生,大姑娘,大吐苦水,多美元,多渠道,夏迪特,处方药,墨尔本,地理位置,基础设施,基督教,培训基地,城管局\n",
      "Topic #59: 鼓楼区,声嘶力竭,大方向,大放送,大干一场,大崗山,大峡谷,大学生,大姑娘,大吐苦水,多美元,多渠道,夏迪特,处方药,墨尔本,地理位置,基础设施,基督教,培训基地,城管局\n",
      "Topic #60: 鼓楼区,声嘶力竭,大方向,大放送,大干一场,大崗山,大峡谷,大学生,大姑娘,大吐苦水,多美元,多渠道,夏迪特,处方药,墨尔本,地理位置,基础设施,基督教,培训基地,城管局\n",
      "Topic #61: 鼓楼区,声嘶力竭,大方向,大放送,大干一场,大崗山,大峡谷,大学生,大姑娘,大吐苦水,多美元,多渠道,夏迪特,处方药,墨尔本,地理位置,基础设施,基督教,培训基地,城管局\n",
      "Topic #62: 鼓楼区,声嘶力竭,大方向,大放送,大干一场,大崗山,大峡谷,大学生,大姑娘,大吐苦水,多美元,多渠道,夏迪特,处方药,墨尔本,地理位置,基础设施,基督教,培训基地,城管局\n",
      "Topic #63: 鼓楼区,声嘶力竭,大方向,大放送,大干一场,大崗山,大峡谷,大学生,大姑娘,大吐苦水,多美元,多渠道,夏迪特,处方药,墨尔本,地理位置,基础设施,基督教,培训基地,城管局\n",
      "Topic #64: 地理位置,耗资近,经得住,基础设施,大崗山,大峡谷,大学生,大姑娘,大吐苦水,多美元,多渠道,夏迪特,处方药,声嘶力竭,墨尔本,基督教,大放送,培训基地,城管局,垃圾袋\n",
      "Topic #65: 鼓楼区,声嘶力竭,大方向,大放送,大干一场,大崗山,大峡谷,大学生,大姑娘,大吐苦水,多美元,多渠道,夏迪特,处方药,墨尔本,地理位置,基础设施,基督教,培训基地,城管局\n",
      "Topic #66: 鼓楼区,声嘶力竭,大方向,大放送,大干一场,大崗山,大峡谷,大学生,大姑娘,大吐苦水,多美元,多渠道,夏迪特,处方药,墨尔本,地理位置,基础设施,基督教,培训基地,城管局\n",
      "Topic #67: 鼓楼区,声嘶力竭,大方向,大放送,大干一场,大崗山,大峡谷,大学生,大姑娘,大吐苦水,多美元,多渠道,夏迪特,处方药,墨尔本,地理位置,基础设施,基督教,培训基地,城管局\n",
      "Topic #68: 鼓楼区,声嘶力竭,大方向,大放送,大干一场,大崗山,大峡谷,大学生,大姑娘,大吐苦水,多美元,多渠道,夏迪特,处方药,墨尔本,地理位置,基础设施,基督教,培训基地,城管局\n",
      "Topic #69: 鼓楼区,声嘶力竭,大方向,大放送,大干一场,大崗山,大峡谷,大学生,大姑娘,大吐苦水,多美元,多渠道,夏迪特,处方药,墨尔本,地理位置,基础设施,基督教,培训基地,城管局\n",
      "Topic #70: 鼓楼区,声嘶力竭,大方向,大放送,大干一场,大崗山,大峡谷,大学生,大姑娘,大吐苦水,多美元,多渠道,夏迪特,处方药,墨尔本,地理位置,基础设施,基督教,培训基地,城管局\n",
      "Topic #71: 鼓楼区,声嘶力竭,大方向,大放送,大干一场,大崗山,大峡谷,大学生,大姑娘,大吐苦水,多美元,多渠道,夏迪特,处方药,墨尔本,地理位置,基础设施,基督教,培训基地,城管局\n",
      "Topic #72: 鼓楼区,声嘶力竭,大方向,大放送,大干一场,大崗山,大峡谷,大学生,大姑娘,大吐苦水,多美元,多渠道,夏迪特,处方药,墨尔本,地理位置,基础设施,基督教,培训基地,城管局\n",
      "Topic #73: 鼓楼区,声嘶力竭,大方向,大放送,大干一场,大崗山,大峡谷,大学生,大姑娘,大吐苦水,多美元,多渠道,夏迪特,处方药,墨尔本,地理位置,基础设施,基督教,培训基地,城管局\n",
      "Topic #74: 鼓楼区,声嘶力竭,大方向,大放送,大干一场,大崗山,大峡谷,大学生,大姑娘,大吐苦水,多美元,多渠道,夏迪特,处方药,墨尔本,地理位置,基础设施,基督教,培训基地,城管局\n",
      "Topic #75: 鼓楼区,声嘶力竭,大方向,大放送,大干一场,大崗山,大峡谷,大学生,大姑娘,大吐苦水,多美元,多渠道,夏迪特,处方药,墨尔本,地理位置,基础设施,基督教,培训基地,城管局\n",
      "Topic #76: 鼓楼区,声嘶力竭,大方向,大放送,大干一场,大崗山,大峡谷,大学生,大姑娘,大吐苦水,多美元,多渠道,夏迪特,处方药,墨尔本,地理位置,基础设施,基督教,培训基地,城管局\n",
      "Topic #77: 鼓楼区,声嘶力竭,大方向,大放送,大干一场,大崗山,大峡谷,大学生,大姑娘,大吐苦水,多美元,多渠道,夏迪特,处方药,墨尔本,地理位置,基础设施,基督教,培训基地,城管局\n",
      "Topic #78: 鼓楼区,声嘶力竭,大方向,大放送,大干一场,大崗山,大峡谷,大学生,大姑娘,大吐苦水,多美元,多渠道,夏迪特,处方药,墨尔本,地理位置,基础设施,基督教,培训基地,城管局\n",
      "Topic #79: 鼓楼区,声嘶力竭,大方向,大放送,大干一场,大崗山,大峡谷,大学生,大姑娘,大吐苦水,多美元,多渠道,夏迪特,处方药,墨尔本,地理位置,基础设施,基督教,培训基地,城管局\n",
      "Topic #80: 鼓楼区,声嘶力竭,大方向,大放送,大干一场,大崗山,大峡谷,大学生,大姑娘,大吐苦水,多美元,多渠道,夏迪特,处方药,墨尔本,地理位置,基础设施,基督教,培训基地,城管局\n",
      "Topic #81: 鼓楼区,声嘶力竭,大方向,大放送,大干一场,大崗山,大峡谷,大学生,大姑娘,大吐苦水,多美元,多渠道,夏迪特,处方药,墨尔本,地理位置,基础设施,基督教,培训基地,城管局\n",
      "Topic #82: 鼓楼区,声嘶力竭,大方向,大放送,大干一场,大崗山,大峡谷,大学生,大姑娘,大吐苦水,多美元,多渠道,夏迪特,处方药,墨尔本,地理位置,基础设施,基督教,培训基地,城管局\n",
      "Topic #83: 鼓楼区,声嘶力竭,大方向,大放送,大干一场,大崗山,大峡谷,大学生,大姑娘,大吐苦水,多美元,多渠道,夏迪特,处方药,墨尔本,地理位置,基础设施,基督教,培训基地,城管局\n",
      "Topic #84: 鼓楼区,声嘶力竭,大方向,大放送,大干一场,大崗山,大峡谷,大学生,大姑娘,大吐苦水,多美元,多渠道,夏迪特,处方药,墨尔本,地理位置,基础设施,基督教,培训基地,城管局\n",
      "Topic #85: 鼓楼区,声嘶力竭,大方向,大放送,大干一场,大崗山,大峡谷,大学生,大姑娘,大吐苦水,多美元,多渠道,夏迪特,处方药,墨尔本,地理位置,基础设施,基督教,培训基地,城管局\n",
      "Topic #86: 鼓楼区,声嘶力竭,大方向,大放送,大干一场,大崗山,大峡谷,大学生,大姑娘,大吐苦水,多美元,多渠道,夏迪特,处方药,墨尔本,地理位置,基础设施,基督教,培训基地,城管局\n",
      "Topic #87: 鼓楼区,声嘶力竭,大方向,大放送,大干一场,大崗山,大峡谷,大学生,大姑娘,大吐苦水,多美元,多渠道,夏迪特,处方药,墨尔本,地理位置,基础设施,基督教,培训基地,城管局\n",
      "Topic #88: 鼓楼区,声嘶力竭,大方向,大放送,大干一场,大崗山,大峡谷,大学生,大姑娘,大吐苦水,多美元,多渠道,夏迪特,处方药,墨尔本,地理位置,基础设施,基督教,培训基地,城管局\n",
      "Topic #89: 鼓楼区,声嘶力竭,大方向,大放送,大干一场,大崗山,大峡谷,大学生,大姑娘,大吐苦水,多美元,多渠道,夏迪特,处方药,墨尔本,地理位置,基础设施,基督教,培训基地,城管局\n",
      "Topic #90: 鼓楼区,声嘶力竭,大方向,大放送,大干一场,大崗山,大峡谷,大学生,大姑娘,大吐苦水,多美元,多渠道,夏迪特,处方药,墨尔本,地理位置,基础设施,基督教,培训基地,城管局\n",
      "Topic #91: 鼓楼区,声嘶力竭,大方向,大放送,大干一场,大崗山,大峡谷,大学生,大姑娘,大吐苦水,多美元,多渠道,夏迪特,处方药,墨尔本,地理位置,基础设施,基督教,培训基地,城管局\n",
      "Topic #92: 鼓楼区,声嘶力竭,大方向,大放送,大干一场,大崗山,大峡谷,大学生,大姑娘,大吐苦水,多美元,多渠道,夏迪特,处方药,墨尔本,地理位置,基础设施,基督教,培训基地,城管局\n",
      "Topic #93: 鼓楼区,声嘶力竭,大方向,大放送,大干一场,大崗山,大峡谷,大学生,大姑娘,大吐苦水,多美元,多渠道,夏迪特,处方药,墨尔本,地理位置,基础设施,基督教,培训基地,城管局\n",
      "Topic #94: 鼓楼区,声嘶力竭,大方向,大放送,大干一场,大崗山,大峡谷,大学生,大姑娘,大吐苦水,多美元,多渠道,夏迪特,处方药,墨尔本,地理位置,基础设施,基督教,培训基地,城管局\n",
      "Topic #95: 鼓楼区,声嘶力竭,大方向,大放送,大干一场,大崗山,大峡谷,大学生,大姑娘,大吐苦水,多美元,多渠道,夏迪特,处方药,墨尔本,地理位置,基础设施,基督教,培训基地,城管局\n",
      "Topic #96: 鼓楼区,声嘶力竭,大方向,大放送,大干一场,大崗山,大峡谷,大学生,大姑娘,大吐苦水,多美元,多渠道,夏迪特,处方药,墨尔本,地理位置,基础设施,基督教,培训基地,城管局\n",
      "Topic #97: 鼓楼区,声嘶力竭,大方向,大放送,大干一场,大崗山,大峡谷,大学生,大姑娘,大吐苦水,多美元,多渠道,夏迪特,处方药,墨尔本,地理位置,基础设施,基督教,培训基地,城管局\n",
      "Topic #98: 鼓楼区,声嘶力竭,大方向,大放送,大干一场,大崗山,大峡谷,大学生,大姑娘,大吐苦水,多美元,多渠道,夏迪特,处方药,墨尔本,地理位置,基础设施,基督教,培训基地,城管局\n",
      "Topic #99: 鼓楼区,声嘶力竭,大方向,大放送,大干一场,大崗山,大峡谷,大学生,大姑娘,大吐苦水,多美元,多渠道,夏迪特,处方药,墨尔本,地理位置,基础设施,基督教,培训基地,城管局\n",
      "\n"
     ]
    }
   ],
   "source": [
    "print(\"\\nTopics in LDA model:\")\n",
    "tf_feature_names = vectorizer.get_feature_names()\n",
    "print_top_words(sklearn_lda , tf_feature_names, n_top_words=20)"
   ]
  },
  {
   "cell_type": "code",
   "execution_count": null,
   "metadata": {},
   "outputs": [],
   "source": []
  }
 ],
 "metadata": {
  "kernelspec": {
   "display_name": "Python 3",
   "language": "python",
   "name": "python3"
  },
  "language_info": {
   "codemirror_mode": {
    "name": "ipython",
    "version": 3
   },
   "file_extension": ".py",
   "mimetype": "text/x-python",
   "name": "python",
   "nbconvert_exporter": "python",
   "pygments_lexer": "ipython3",
   "version": "3.7.0"
  },
  "latex_envs": {
   "LaTeX_envs_menu_present": true,
   "autoclose": false,
   "autocomplete": true,
   "bibliofile": "biblio.bib",
   "cite_by": "apalike",
   "current_citInitial": 1,
   "eqLabelWithNumbers": true,
   "eqNumInitial": 1,
   "hotkeys": {
    "equation": "Ctrl-E",
    "itemize": "Ctrl-I"
   },
   "labels_anchors": false,
   "latex_user_defs": false,
   "report_style_numbering": false,
   "user_envs_cfg": false
  },
  "toc": {
   "base_numbering": 1,
   "nav_menu": {},
   "number_sections": true,
   "sideBar": true,
   "skip_h1_title": false,
   "title_cell": "Table of Contents",
   "title_sidebar": "Contents",
   "toc_cell": false,
   "toc_position": {},
   "toc_section_display": true,
   "toc_window_display": false
  }
 },
 "nbformat": 4,
 "nbformat_minor": 2
}
